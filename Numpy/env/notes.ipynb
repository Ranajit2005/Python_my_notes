{
 "cells": [
  {
   "cell_type": "code",
   "execution_count": 2,
   "id": "688a4a71",
   "metadata": {},
   "outputs": [],
   "source": [
    "import numpy as np"
   ]
  },
  {
   "cell_type": "code",
   "execution_count": null,
   "id": "7edbdb24",
   "metadata": {},
   "outputs": [
    {
     "name": "stdout",
     "output_type": "stream",
     "text": [
      "My 1d array is :  [1 2 3 4 5]\n",
      "My 2D array is :  [[1 2 3]\n",
      " [4 5 6]]\n"
     ]
    }
   ],
   "source": [
    "arr1_1D = np.array([1,2,3,4,5]) # Create a 1D array, always pass a list, means separated by comma in np.array() and get vector\n",
    "print(\"My 1d array is : \",arr1_1D)\n",
    "\n",
    "arr2_2D = np.array([[1,2,3],[4,5,6]]) # Create a 2D array\n",
    "print(\"My 2D array is : \",arr2_2D)"
   ]
  },
  {
   "cell_type": "code",
   "execution_count": null,
   "id": "e70bbe30",
   "metadata": {},
   "outputs": [
    {
     "name": "stdout",
     "output_type": "stream",
     "text": [
      "Sum of two lists is :  [1, 2, 3, 4, 5, 6, 7, 8, 9, 10]\n",
      "Sum of two arrays is :  [ 7  9 11 13 15]\n",
      "Subtraction of two arrays is :  [-5 -5 -5 -5 -5]\n",
      "Multiplication of two arrays is :  [ 6 14 24 36 50]\n",
      "Division of two arrays is :  [0.16666667 0.28571429 0.375      0.44444444 0.5       ]\n",
      "List with each element multiplied by 2 is :  [1, 2, 3, 4, 5, 1, 2, 3, 4, 5]\n",
      "Array with each element multiplied by 2 is :  [ 2  4  6  8 10]\n"
     ]
    }
   ],
   "source": [
    "# Now creating those array, we can easily perfrom vector operations\n",
    "\n",
    "list1 = [1,2,3,4,5]\n",
    "list2 = [6,7,8,9,10]\n",
    "\n",
    "arr1 = np.array(list1)\n",
    "arr2 = np.array(list2)\n",
    "\n",
    "# Vector addition\n",
    "# list cannot do this, it will join the two lists\n",
    "list_sum = list1 + list2\n",
    "print(\"Sum of two lists is : \", list_sum)\n",
    "# but numpy arrays can do this, it will add the two arrays element-wise\n",
    "arr_sum = arr1 + arr2\n",
    "print(\"Sum of two arrays is : \", arr_sum)\n",
    "\n",
    "# Vector subtraction\n",
    "# list_sub = list1 - list2  # This will give an error, lists cannot be\n",
    "# but numpy arrays can do this, it will subtract the two arrays element-wise\n",
    "arr_sub = arr1 - arr2\n",
    "print(\"Subtraction of two arrays is : \", arr_sub)\n",
    "\n",
    "# Vector multiplication\n",
    "# list_mul = list1 * list2  # This will give an error, lists cannot be\n",
    "# but numpy arrays can do this, it will multiply the two arrays element-wise\n",
    "arr_mul = arr1 * arr2\n",
    "print(\"Multiplication of two arrays is : \", arr_mul)\n",
    "\n",
    "# Vector division\n",
    "# list_div = list1 / list2  # This will give an error, lists cannot\n",
    "# but numpy arrays can do this, it will divide the two arrays element-wise\n",
    "arr_div = arr1 / arr2\n",
    "print(\"Division of two arrays is : \", arr_div)\n",
    "\n",
    "list_tuice = list1 * 2  # This will give a list with each element multiplied by 2\n",
    "print(\"List with each element multiplied by 2 is : \", list_tuice)\n",
    "arr_tuice = arr1 * 2  # This will give an array with each element multiplied by 2\n",
    "print(\"Array with each element multiplied by 2 is : \", arr_tuice)\n",
    "\n"
   ]
  },
  {
   "cell_type": "code",
   "execution_count": 22,
   "id": "5d589518",
   "metadata": {},
   "outputs": [
    {
     "name": "stdout",
     "output_type": "stream",
     "text": [
      "Array with 100 elements from 0 to 9 is :  [0 1 2 3 4 5 6 7 8 9]\n",
      "Array with 10 elements from 10 to 19 is :  [10 11 12 13 14 15 16 17 18 19]\n",
      "Array with 10 elements from 10 to 19 with step size of 2 is :  [10 12 14 16 18]\n",
      "2D array with 2 rows and 3 columns filled with zeros is : \n",
      " [[0. 0. 0.]\n",
      " [0. 0. 0.]]\n",
      "2D array with 2 rows and 3 columns filled with ones is : \n",
      " [[1. 1. 1.]\n",
      " [1. 1. 1.]]\n",
      "2D array with 2 rows and 3 columns filled with 5 is : \n",
      " [[5 5 5]\n",
      " [5 5 5]]\n",
      "2D array with 2 rows and 3 columns filled with random values between 0 and 1 is : \n",
      " [[0.52470643 0.5573796  0.22595808]\n",
      " [0.82354599 0.85920373 0.43076294]]\n"
     ]
    }
   ],
   "source": [
    "arr3 = np.arange(10) # Create an array with 10 elements from 0 to 9\n",
    "print(\"Array with 100 elements from 0 to 9 is : \", arr3)\n",
    "\n",
    "arr4 = np.arange(10, 20) # Create an array with 10 elements from 10 to 19\n",
    "print(\"Array with 10 elements from 10 to 19 is : \", arr4)\n",
    "\n",
    "arr5 = np.arange(10, 20, 2) # Create an array from 10 to 19 with step size of 2\n",
    "print(\"Array with 10 elements from 10 to 19 with step size of 2 is : \", arr5)\n",
    "\n",
    "arr6_zero = np.zeros((2, 3)) # Create a 2D array with 2 rows and 3 columns filled with zeros\n",
    "print(\"2D array with 2 rows and 3 columns filled with zeros is : \\n\", arr6_zero)\n",
    "\n",
    "arr7_ones = np.ones((2,3)) # Create a 2D array with 2 rows and 3 columns filled with ones\n",
    "print(\"2D array with 2 rows and 3 columns filled with ones is : \\n\", arr7_ones)\n",
    "\n",
    "arr8_of_one_partical_value = np.full((2,3),5) # Create a 2D array with 2 rows and 3 columns filled with 5, formate is np.full((rows, columns), value)\n",
    "print(\"2D array with 2 rows and 3 columns filled with 5 is : \\n\", arr8_of_one_partical_value)\n",
    "\n",
    "arr8_random_values = np.random.random((2,3)) # Create a 2D array with 2 rows and 3 columns filled with random values between 0 and 1\n",
    "print(\"2D array with 2 rows and 3 columns filled with random values between 0 and 1 is : \\n\", arr8_random_values)\n",
    "\n",
    "\n"
   ]
  },
  {
   "cell_type": "code",
   "execution_count": null,
   "id": "fc508848",
   "metadata": {},
   "outputs": [],
   "source": []
  }
 ],
 "metadata": {
  "kernelspec": {
   "display_name": "env",
   "language": "python",
   "name": "python3"
  },
  "language_info": {
   "codemirror_mode": {
    "name": "ipython",
    "version": 3
   },
   "file_extension": ".py",
   "mimetype": "text/x-python",
   "name": "python",
   "nbconvert_exporter": "python",
   "pygments_lexer": "ipython3",
   "version": "3.12.5"
  }
 },
 "nbformat": 4,
 "nbformat_minor": 5
}
