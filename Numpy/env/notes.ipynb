{
 "cells": [
  {
   "cell_type": "code",
   "execution_count": 32,
   "id": "688a4a71",
   "metadata": {},
   "outputs": [],
   "source": [
    "import numpy as np"
   ]
  },
  {
   "cell_type": "code",
   "execution_count": 33,
   "id": "7edbdb24",
   "metadata": {},
   "outputs": [
    {
     "name": "stdout",
     "output_type": "stream",
     "text": [
      "My 1d array is :  [1 2 3 4 5]\n",
      "My 2D array is :  [[1 2 3]\n",
      " [4 5 6]]\n"
     ]
    }
   ],
   "source": [
    "arr1_1D = np.array([1,2,3,4,5]) # Create a 1D array, always pass a list, means separated by comma in np.array() and get vector\n",
    "print(\"My 1d array is : \",arr1_1D)\n",
    "\n",
    "arr2_2D = np.array([[1,2,3],[4,5,6]]) # Create a 2D array\n",
    "print(\"My 2D array is : \",arr2_2D)"
   ]
  },
  {
   "cell_type": "code",
   "execution_count": 34,
   "id": "e70bbe30",
   "metadata": {},
   "outputs": [
    {
     "name": "stdout",
     "output_type": "stream",
     "text": [
      "Sum of two lists is :  [1, 2, 3, 4, 5, 6, 7, 8, 9, 10]\n",
      "Sum of two arrays is :  [ 7  9 11 13 15]\n",
      "Subtraction of two arrays is :  [-5 -5 -5 -5 -5]\n",
      "Multiplication of two arrays is :  [ 6 14 24 36 50]\n",
      "Division of two arrays is :  [0.16666667 0.28571429 0.375      0.44444444 0.5       ]\n",
      "List with each element multiplied by 2 is :  [1, 2, 3, 4, 5, 1, 2, 3, 4, 5]\n",
      "Array with each element multiplied by 2 is :  [ 2  4  6  8 10]\n"
     ]
    }
   ],
   "source": [
    "# Now creating those array, we can easily perfrom vector operations\n",
    "\n",
    "list1 = [1,2,3,4,5]\n",
    "list2 = [6,7,8,9,10]\n",
    "\n",
    "arr1 = np.array(list1)\n",
    "arr2 = np.array(list2)\n",
    "\n",
    "# Vector addition\n",
    "# list cannot do this, it will join the two lists\n",
    "list_sum = list1 + list2\n",
    "print(\"Sum of two lists is : \", list_sum)\n",
    "# but numpy arrays can do this, it will add the two arrays element-wise\n",
    "arr_sum = arr1 + arr2\n",
    "print(\"Sum of two arrays is : \", arr_sum)\n",
    "\n",
    "# Vector subtraction\n",
    "# list_sub = list1 - list2  # This will give an error, lists cannot be\n",
    "# but numpy arrays can do this, it will subtract the two arrays element-wise\n",
    "arr_sub = arr1 - arr2\n",
    "print(\"Subtraction of two arrays is : \", arr_sub)\n",
    "\n",
    "# Vector multiplication\n",
    "# list_mul = list1 * list2  # This will give an error, lists cannot be\n",
    "# but numpy arrays can do this, it will multiply the two arrays element-wise\n",
    "arr_mul = arr1 * arr2\n",
    "print(\"Multiplication of two arrays is : \", arr_mul)\n",
    "\n",
    "# Vector division\n",
    "# list_div = list1 / list2  # This will give an error, lists cannot\n",
    "# but numpy arrays can do this, it will divide the two arrays element-wise\n",
    "arr_div = arr1 / arr2\n",
    "print(\"Division of two arrays is : \", arr_div)\n",
    "\n",
    "list_tuice = list1 * 2  # This will give a list with each element multiplied by 2\n",
    "print(\"List with each element multiplied by 2 is : \", list_tuice)\n",
    "arr_tuice = arr1 * 2  # This will give an array with each element multiplied by 2\n",
    "print(\"Array with each element multiplied by 2 is : \", arr_tuice)\n",
    "\n"
   ]
  },
  {
   "cell_type": "code",
   "execution_count": 35,
   "id": "5d589518",
   "metadata": {},
   "outputs": [
    {
     "name": "stdout",
     "output_type": "stream",
     "text": [
      "Array with 100 elements from 0 to 9 is :  [0 1 2 3 4 5 6 7 8 9]\n",
      "Array with 10 elements from 10 to 19 is :  [10 11 12 13 14 15 16 17 18 19]\n",
      "Array with 10 elements from 10 to 19 with step size of 2 is :  [10 12 14 16 18]\n",
      "2D array with 2 rows and 3 columns filled with zeros is : \n",
      " [[0. 0. 0.]\n",
      " [0. 0. 0.]]\n",
      "2D array with 2 rows and 3 columns filled with ones is : \n",
      " [[1. 1. 1.]\n",
      " [1. 1. 1.]]\n",
      "2D array with 2 rows and 3 columns filled with 5 is : \n",
      " [[5 5 5]\n",
      " [5 5 5]]\n",
      "2D array with 2 rows and 3 columns filled with random values between 0 and 1 is : \n",
      " [[0.9147556  0.49986842 0.77619238]\n",
      " [0.7759805  0.95967583 0.20431217]]\n"
     ]
    }
   ],
   "source": [
    "arr3 = np.arange(10) # Create an array with 10 elements from 0 to 9\n",
    "print(\"Array with 100 elements from 0 to 9 is : \", arr3)\n",
    "\n",
    "arr4 = np.arange(10, 20) # Create an array with 10 elements from 10 to 19\n",
    "print(\"Array with 10 elements from 10 to 19 is : \", arr4)\n",
    "\n",
    "arr5 = np.arange(10, 20, 2) # Create an array from 10 to 19 with step size of 2\n",
    "print(\"Array with 10 elements from 10 to 19 with step size of 2 is : \", arr5)\n",
    "\n",
    "arr6_zero = np.zeros((2, 3)) # Create a 2D array with 2 rows and 3 columns filled with zeros\n",
    "print(\"2D array with 2 rows and 3 columns filled with zeros is : \\n\", arr6_zero)\n",
    "\n",
    "arr7_ones = np.ones((2,3)) # Create a 2D array with 2 rows and 3 columns filled with ones\n",
    "print(\"2D array with 2 rows and 3 columns filled with ones is : \\n\", arr7_ones)\n",
    "\n",
    "arr8_of_one_partical_value = np.full((2,3),5) # Create a 2D array with 2 rows and 3 columns filled with 5, formate is np.full((rows, columns), value)\n",
    "print(\"2D array with 2 rows and 3 columns filled with 5 is : \\n\", arr8_of_one_partical_value)\n",
    "\n",
    "arr9_random_values = np.random.random((2,3)) # Create a 2D array with 2 rows and 3 columns filled with random values between 0 and 1\n",
    "print(\"2D array with 2 rows and 3 columns filled with random values between 0 and 1 is : \\n\", arr9_random_values)"
   ]
  },
  {
   "cell_type": "code",
   "execution_count": 36,
   "id": "f4b8c12b",
   "metadata": {},
   "outputs": [
    {
     "name": "stdout",
     "output_type": "stream",
     "text": [
      "My vector is :  [1 2 3 4 5]\n",
      "My matrix is : \n",
      " [[1 2 3]\n",
      " [4 5 6]]\n",
      "My tensor is : \n",
      " [[[1 2]\n",
      "  [3 4]]\n",
      "\n",
      " [[5 6]\n",
      "  [7 8]]]\n"
     ]
    }
   ],
   "source": [
    "vector = np.array([1,2,3,4,5])  # Create a vector (1D array)\n",
    "print(\"My vector is : \", vector)\n",
    "\n",
    "matrix = np.array([[1,2,3],[4,5,6]]) # Create a 2D array (matrix)\n",
    "print(\"My matrix is : \\n\", matrix)\n",
    "\n",
    "tensor = np.array([[[1,2],[3,4]],\n",
    "                    [[5,6],[7,8]]]) # Create a 3D array (tensor)\n",
    "print(\"My tensor is : \\n\", tensor)"
   ]
  },
  {
   "cell_type": "code",
   "execution_count": 37,
   "id": "7943cc1f",
   "metadata": {},
   "outputs": [
    {
     "name": "stdout",
     "output_type": "stream",
     "text": [
      "Array is : \n",
      " [[1 2 3]\n",
      " [4 5 6]]\n",
      "Shape of the array is :  (2, 3)\n",
      "Number of dimensions of the array is :  2\n",
      "Data type of the array is :  int64\n",
      "Size of the array is :  6\n",
      "Item size of the array is :  8\n",
      "Total bytes of the array is :  48\n",
      "The transepose of the array is : \n",
      " [[1 4]\n",
      " [2 5]\n",
      " [3 6]]\n"
     ]
    }
   ],
   "source": [
    "# Array properties\n",
    "arr10 = np.array([[1,2,3],[4,5,6]])  # Create a 2D array for properties demonstration\n",
    "\n",
    "print(\"Array is : \\n\", arr10) \n",
    "print(\"Shape of the array is : \", arr10.shape)  # Shape of the array\n",
    "print(\"Number of dimensions of the array is : \", arr10.ndim)   # Number of dimensions of the array\n",
    "print(\"Data type of the array is : \", arr10.dtype)  # Data type of the array\n",
    "print(\"Size of the array is : \", arr10.size)  # Size of the array\n",
    "print(\"Item size of the array is : \", arr10.itemsize)  # itemsize gives the number of bytes used to store one element in the array.\n",
    "print(\"Total bytes of the array is : \", arr10.nbytes)  # Total bytes\n",
    "print(\"The transepose of the array is : \\n\", arr10.T)  # Transpose of the array"
   ]
  },
  {
   "cell_type": "code",
   "execution_count": 38,
   "id": "0cd6fa15",
   "metadata": {},
   "outputs": [
    {
     "name": "stdout",
     "output_type": "stream",
     "text": [
      "1D array with 12 elements from 0 to 11 is :  [ 0  1  2  3  4  5  6  7  8  9 10 11]\n",
      "Reshaped array to 3 rows and 4 columns is : \n",
      " [[ 0  1  2  3]\n",
      " [ 4  5  6  7]\n",
      " [ 8  9 10 11]]\n",
      "Flattened array is :  [ 0  1  2  3  4  5  6  7  8  9 10 11]\n",
      "Reshaped array to 2 rows, 2 columns and 3 depth is : \n",
      " [[[ 0  1  2  3]\n",
      "  [ 4  5  6  7]\n",
      "  [ 8  9 10 11]]\n",
      "\n",
      " [[12 13 14 15]\n",
      "  [16 17 18 19]\n",
      "  [20 21 22 23]]]\n",
      "Accessing the element at depth 0, row 1, column 2 is :  6\n",
      "Raveled array is :  [ 0  1  2  3  4  5  6  7  8  9 10 11 12 13 14 15 16 17 18 19 20 21 22 23]\n"
     ]
    }
   ],
   "source": [
    "# list3 = [1,2,3,4,5,6,7,8,9,10,11,12]\n",
    "arr11 = np.arange(12) # Create a 1D array with 12 elements from 0 to 11\n",
    "print(\"1D array with 12 elements from 0 to 11 is : \", arr11)\n",
    "\n",
    "reshape_arr11_of2D = arr11.reshape(3,4) # Reshape the array to 3 rows and 4 columns\n",
    "print(\"Reshaped array to 3 rows and 4 columns is : \\n\", reshape_arr11_of2D)\n",
    "\n",
    "flattened_arr11 = reshape_arr11_of2D.flatten() # Flatten the array to 1D\n",
    "print(\"Flattened array is : \", flattened_arr11)\n",
    "\n",
    "reshape_arr12_of3D = np.arange(24).reshape(2,3,4) # Reshape the array to 2 depth, 3 row and 4 columns\n",
    "print(\"Reshaped array to 2 rows, 2 columns and 3 depth is : \\n\", reshape_arr12_of3D)\n",
    "'''\n",
    "    c0 c1 c2 c3\n",
    "[[[ 0  1  2  3]     row0    |\n",
    "  [ 4  5  6  7]     row1    |-> depth0\n",
    "  [ 8  9 10 11]]    row2    |\n",
    "\n",
    " [[12 13 14 15]     row0    |\n",
    "  [16 17 18 19]     row1    |-> depth1\n",
    "  [20 21 22 23]]]   row2    |\n",
    "'''\n",
    "# The access process is arr[depth][row][column]\n",
    "print(\"Accessing the element at depth 0, row 1, column 2 is : \", reshape_arr12_of3D[0][1][2]) # Accessing the element at depth 0, row 1, column 2\n",
    "\n",
    "ravel_arr12 = reshape_arr12_of3D.ravel() # Ravel the array to 1D\n",
    "print(\"Raveled array is : \", ravel_arr12)\n"
   ]
  },
  {
   "cell_type": "code",
   "execution_count": 39,
   "id": "4860055d",
   "metadata": {},
   "outputs": [
    {
     "name": "stdout",
     "output_type": "stream",
     "text": [
      "Original array:\n",
      " [[  1 200]\n",
      " [  3   4]]\n",
      "Flattened copy:\n",
      " [100   2   3   4]\n",
      "Raveled view:\n",
      " [  1 200   3   4]\n"
     ]
    }
   ],
   "source": [
    "# flatten() -> Always returns a copy\n",
    "# ravel() -> Returns a view (if possible)\n",
    "\n",
    "arr13 = np.array([[1, 2], [3, 4]])\n",
    "\n",
    "flat = arr13.flatten()\n",
    "rav = arr13.ravel()\n",
    "\n",
    "flat[0] = 100   # This will not affect the original array\n",
    "rav[1] = 200    # This will affect the original array if it is a view\n",
    "\n",
    "print(\"Original array:\\n\", arr13)\n",
    "print(\"Flattened copy:\\n\", flat)\n",
    "print(\"Raveled view:\\n\", rav)"
   ]
  },
  {
   "cell_type": "code",
   "execution_count": 40,
   "id": "08570d86",
   "metadata": {},
   "outputs": [
    {
     "name": "stdout",
     "output_type": "stream",
     "text": [
      "Original array:\n",
      " [[ 1  2  3  4]\n",
      " [ 5  6  7  8]\n",
      " [ 9 10 11 12]]\n",
      "Sliced array (first two rows and first three columns):\n",
      " [[1 2 3]\n",
      " [5 6 7]]\n",
      "Sliced row (second row and all columns):\n",
      " [5 6 7 8]\n",
      "Sliced array (last two rows and last two columns):\n",
      " [[ 7  8]\n",
      " [11 12]]\n"
     ]
    }
   ],
   "source": [
    "# array slicing\n",
    "# array slicing is same as list slicing, but with some additional features, now list is 1D, so we don't show the 1D array slicing\n",
    "# but in numpy array, we can slice 2D and 3D arrays as well\n",
    "arr14 = np.array([[1, 2, 3, 4],\n",
    "                  [5, 6, 7, 8],\n",
    "                  [9, 10, 11, 12]])\n",
    "print(\"Original array:\\n\", arr14)\n",
    "# The formate is arr[row_start:row_end, column_start:column_end], if we don't specify the start or end, it will take the whole row or column by default, the end part always excludes the end index\n",
    "sliced_arr14 = arr14[:2, :3]    # Slicing the array to get the first two rows and first three columns\n",
    "print(\"Sliced array (first two rows and first three columns):\\n\", sliced_arr14)\n",
    "# Slicing the array to get the second row and all columns\n",
    "sliced_row = arr14[1, :]  # This means row 1 and all columns\n",
    "print(\"Sliced row (second row and all columns):\\n\", sliced_row)\n",
    "# Slicing the array to get the last two rows and last two columns\n",
    "sliced_arr14_last = arr14[-2:, -2:]  # Slicing the array to get the last two rows and last two columns\n",
    "print(\"Sliced array (last two rows and last two columns):\\n\", sliced_arr14_last)\n",
    "\n",
    "# The formate of 3D array slicing is arr[depth_start:depth_end, row_start:row_end, column_start:column_end]"
   ]
  },
  {
   "cell_type": "code",
   "execution_count": 41,
   "id": "24bec932",
   "metadata": {},
   "outputs": [
    {
     "name": "stdout",
     "output_type": "stream",
     "text": [
      "Sorted array in ascending order: [1 2 3 4 5] \n",
      "\n",
      "\n",
      "\n",
      "Sorted array in ascending order (flattened):\n",
      " [[1 3 7]\n",
      " [2 5 6]]\n",
      "Sorted array along the first axis (columns):\n",
      " [[2 1 6]\n",
      " [3 5 7]]\n",
      "Sorted array along the second axis (rows):\n",
      " [[1 3 7]\n",
      " [2 5 6]]\n"
     ]
    }
   ],
   "source": [
    "# Sorting the array\n",
    "    # For 1D array\n",
    "arr15 = np.array([3, 1, 4, 2, 5])\n",
    "sorted_arr15 = np.sort(arr15)  # Sort the array in ascending order\n",
    "print(\"Sorted array in ascending order:\", sorted_arr15,\"\\n\\n\\n\")\n",
    "\n",
    "    # For 2D array\n",
    "arr16 = np.array([[3, 1, 7], \n",
    "                  [2, 5, 6]])\n",
    "# If we don't specify the axis,then it is axis = -1 and it will sort the array in ascending order, flattened\n",
    "sorted_arr16 = np.sort(arr16)  # Sort the array in ascending order, flattened\n",
    "print(\"Sorted array in ascending order (flattened):\\n\", sorted_arr16)\n",
    "sorted_arr16_col = np.sort(arr16, axis=0)  # Sort the array along the first axis (columns)\n",
    "print(\"Sorted array along the first axis (columns):\\n\", sorted_arr16_col)\n",
    "sorted_arr16_row = np.sort(arr16, axis=1)  # Sort the array along the second axis (rows)\n",
    "print(\"Sorted array along the second axis (rows):\\n\", sorted_arr16_row)"
   ]
  },
  {
   "cell_type": "code",
   "execution_count": 42,
   "id": "508f2bfc",
   "metadata": {},
   "outputs": [
    {
     "name": "stdout",
     "output_type": "stream",
     "text": [
      "Even numbers in the array are:  [ 2  4  6  8 10]\n",
      "Filtered array with elements greater than 5:  [ 6  7  8  9 10]\n",
      "Fancy indexed array (accessing elements at row indices 0 and 2, and column indices 1 and 2):  [2 9]\n"
     ]
    }
   ],
   "source": [
    "# Filter, means to get the elements that satisfy a condition\n",
    "arr17 = np.array([1, 2, 3, 4, 5, 6, 7, 8, 9, 10])\n",
    "even_num = arr17[arr17 % 2 == 0]    # formate is new_array = old_array[condition], where condition is a boolean array\n",
    "print(\"Even numbers in the array are: \", even_num)\n",
    "\n",
    "# Filter with mask\n",
    "mask = arr17 > 5  # Create a mask for elements greater than 5\n",
    "filtered_arr17 = arr17[mask]  # Use the mask to filter the array\n",
    "print(\"Filtered array with elements greater than 5: \", filtered_arr17)\n",
    "\n",
    "# Fancy indexing\n",
    "arr18 = np.array([[1, 2, 3], \n",
    "                  [4, 5, 6], \n",
    "                  [7, 8, 9]])\n",
    "# Fancy indexing allows us to access multiple elements at once using a list or array of indices\n",
    "row_indices = [0, 2]  # Indices of the rows we want to access\n",
    "col_indices = [1, 2]  # Indices of the columns we want to\n",
    "fancy_indexed_arr18 = arr18[row_indices, col_indices]  # Accessing\n",
    "print(\"Fancy indexed array (accessing elements at row indices 0 and 2, and column indices 1 and 2): \", fancy_indexed_arr18)"
   ]
  },
  {
   "cell_type": "code",
   "execution_count": 43,
   "id": "29561aad",
   "metadata": {},
   "outputs": [
    {
     "name": "stdout",
     "output_type": "stream",
     "text": [
      "Indices of elements greater than 5 in the array:  (array([6, 7, 8, 9]),)\n",
      "Elements greater than 5 in the array:  [6 7 8 9]\n",
      "Conditional array :  [-1 -1 -1 -1 -1 -1 18 21 24 27]\n"
     ]
    }
   ],
   "source": [
    "# where() function, the where() function returns the indices of elements that satisfy a condition\n",
    "arr18 = np.arange(10)\n",
    "indices = np.where(arr18 > 5)  # fromate is np.where(condition), where condition is an array\n",
    "print(\"Indices of elements greater than 5 in the array: \", indices)\n",
    "print(\"Elements greater than 5 in the array: \", arr18[indices])  # Accessing the elements using the indices\n",
    "\n",
    "conditional_arr18 = np.where(arr18 > 5, arr18 * 3, -1)  # fromate is np.where(condition, value_if_true, value_if_false)\n",
    "'''\n",
    "it means -> \n",
    "if(arr18 > 5) then arr18\n",
    "else -1\n",
    "'''\n",
    "print(\"Conditional array : \", conditional_arr18)"
   ]
  },
  {
   "cell_type": "code",
   "execution_count": 44,
   "id": "2a025cab",
   "metadata": {},
   "outputs": [
    {
     "name": "stdout",
     "output_type": "stream",
     "text": [
      "Added array (element-wise addition):  [5 7 9]\n",
      "Combined array:  [1 2 3 4 5 6]\n",
      "Compatibility shape :  True\n",
      "Array after deleting the element at index 1:  [1 3]\n"
     ]
    }
   ],
   "source": [
    "# adding array, combined array, array compatibility and delete\n",
    "arr19 = np.array([1,2,3])\n",
    "arr20 = np.array([4,5,6])\n",
    "arr_adding = arr19 + arr20  # This will add the two arrays element-wise\n",
    "print(\"Added array (element-wise addition): \", arr_adding)\n",
    "combined_arr18 = np.concatenate((arr19, arr20))  # This will combine the two arrays\n",
    "print(\"Combined array: \", combined_arr18)\n",
    "print(\"Compatibility shape : \", arr19.shape == arr20.shape)\n",
    "# delete an item from the array\n",
    "delete_arr19 = np.delete(arr19, 1)  # Delete the element at index 1, Note that this does not modify the original array, it returns a new array.When we delete an element, it return the item, but here it gives a new array\n",
    "print(\"Array after deleting the element at index 1: \", delete_arr19)\n"
   ]
  },
  {
   "cell_type": "code",
   "execution_count": 45,
   "id": "a55dfe0c",
   "metadata": {},
   "outputs": [
    {
     "name": "stdout",
     "output_type": "stream",
     "text": [
      "Array after adding new row:\n",
      " [[1 2 3]\n",
      " [4 5 6]\n",
      " [7 8 9]]\n",
      "Array after adding new column:\n",
      " [[ 1  2  3 10 13]\n",
      " [ 4  5  6 11 14]\n",
      " [ 7  8  9 12 15]]\n"
     ]
    }
   ],
   "source": [
    "# add item as row or column, row means vertical and column means horizontal\n",
    "arr21 = np.array([[1, 2, 3], \n",
    "                  [4, 5, 6]])\n",
    "# add item as row\n",
    "new_row = np.array([7, 8, 9])  # New row to be added\n",
    "arr21_row_added = np.vstack((arr21, new_row))  # Use vstack to add the new row\n",
    "print(\"Array after adding new row:\\n\", arr21_row_added)\n",
    "# add item as column\n",
    "new_col = np.array([[10], [11], [12]])  # New column to be added\n",
    "arr21_col_added = np.hstack((arr21_row_added, new_col))  # Use hstack to add the new column\n",
    "arr21_col_added2 = np.hstack((arr21_col_added, [[13], [14],[ 15]]))  # Adding a new column with different values\n",
    "print(\"Array after adding new column:\\n\", arr21_col_added2)"
   ]
  },
  {
   "cell_type": "code",
   "execution_count": null,
   "id": "0073e425",
   "metadata": {},
   "outputs": [],
   "source": []
  }
 ],
 "metadata": {
  "kernelspec": {
   "display_name": "env",
   "language": "python",
   "name": "python3"
  },
  "language_info": {
   "codemirror_mode": {
    "name": "ipython",
    "version": 3
   },
   "file_extension": ".py",
   "mimetype": "text/x-python",
   "name": "python",
   "nbconvert_exporter": "python",
   "pygments_lexer": "ipython3",
   "version": "3.12.5"
  }
 },
 "nbformat": 4,
 "nbformat_minor": 5
}
