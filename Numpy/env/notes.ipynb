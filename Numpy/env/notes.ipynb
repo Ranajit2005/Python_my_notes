{
 "cells": [
  {
   "cell_type": "code",
   "execution_count": 2,
   "id": "688a4a71",
   "metadata": {},
   "outputs": [],
   "source": [
    "import numpy as np"
   ]
  },
  {
   "cell_type": "code",
   "execution_count": 2,
   "id": "7edbdb24",
   "metadata": {},
   "outputs": [
    {
     "name": "stdout",
     "output_type": "stream",
     "text": [
      "My 1d array is :  [1 2 3 4 5]\n",
      "My 2D array is :  [[1 2 3]\n",
      " [4 5 6]]\n"
     ]
    }
   ],
   "source": [
    "arr1_1D = np.array([1,2,3,4,5]) # Create a 1D array, always pass a list, means separated by comma in np.array() and get vector\n",
    "print(\"My 1d array is : \",arr1_1D)\n",
    "\n",
    "arr2_2D = np.array([[1,2,3],[4,5,6]]) # Create a 2D array\n",
    "print(\"My 2D array is : \",arr2_2D)"
   ]
  },
  {
   "cell_type": "code",
   "execution_count": 3,
   "id": "e70bbe30",
   "metadata": {},
   "outputs": [
    {
     "name": "stdout",
     "output_type": "stream",
     "text": [
      "Sum of two lists is :  [1, 2, 3, 4, 5, 6, 7, 8, 9, 10]\n",
      "Sum of two arrays is :  [ 7  9 11 13 15]\n",
      "Subtraction of two arrays is :  [-5 -5 -5 -5 -5]\n",
      "Multiplication of two arrays is :  [ 6 14 24 36 50]\n",
      "Division of two arrays is :  [0.16666667 0.28571429 0.375      0.44444444 0.5       ]\n",
      "List with each element multiplied by 2 is :  [1, 2, 3, 4, 5, 1, 2, 3, 4, 5]\n",
      "Array with each element multiplied by 2 is :  [ 2  4  6  8 10]\n"
     ]
    }
   ],
   "source": [
    "# Now creating those array, we can easily perfrom vector operations\n",
    "\n",
    "list1 = [1,2,3,4,5]\n",
    "list2 = [6,7,8,9,10]\n",
    "\n",
    "arr1 = np.array(list1)\n",
    "arr2 = np.array(list2)\n",
    "\n",
    "# Vector addition\n",
    "# list cannot do this, it will join the two lists\n",
    "list_sum = list1 + list2\n",
    "print(\"Sum of two lists is : \", list_sum)\n",
    "# but numpy arrays can do this, it will add the two arrays element-wise\n",
    "arr_sum = arr1 + arr2\n",
    "print(\"Sum of two arrays is : \", arr_sum)\n",
    "\n",
    "# Vector subtraction\n",
    "# list_sub = list1 - list2  # This will give an error, lists cannot be\n",
    "# but numpy arrays can do this, it will subtract the two arrays element-wise\n",
    "arr_sub = arr1 - arr2\n",
    "print(\"Subtraction of two arrays is : \", arr_sub)\n",
    "\n",
    "# Vector multiplication\n",
    "# list_mul = list1 * list2  # This will give an error, lists cannot be\n",
    "# but numpy arrays can do this, it will multiply the two arrays element-wise\n",
    "arr_mul = arr1 * arr2\n",
    "print(\"Multiplication of two arrays is : \", arr_mul)\n",
    "\n",
    "# Vector division\n",
    "# list_div = list1 / list2  # This will give an error, lists cannot\n",
    "# but numpy arrays can do this, it will divide the two arrays element-wise\n",
    "arr_div = arr1 / arr2\n",
    "print(\"Division of two arrays is : \", arr_div)\n",
    "\n",
    "list_tuice = list1 * 2  # This will give a list with each element multiplied by 2\n",
    "print(\"List with each element multiplied by 2 is : \", list_tuice)\n",
    "arr_tuice = arr1 * 2  # This will give an array with each element multiplied by 2\n",
    "print(\"Array with each element multiplied by 2 is : \", arr_tuice)\n",
    "\n"
   ]
  },
  {
   "cell_type": "code",
   "execution_count": 5,
   "id": "5d589518",
   "metadata": {},
   "outputs": [
    {
     "name": "stdout",
     "output_type": "stream",
     "text": [
      "Array with 100 elements from 0 to 9 is :  [0 1 2 3 4 5 6 7 8 9]\n",
      "Array with 10 elements from 10 to 19 is :  [10 11 12 13 14 15 16 17 18 19]\n",
      "Array with 10 elements from 10 to 19 with step size of 2 is :  [10 12 14 16 18]\n",
      "2D array with 2 rows and 3 columns filled with zeros is : \n",
      " [[0. 0. 0.]\n",
      " [0. 0. 0.]]\n",
      "2D array with 2 rows and 3 columns filled with ones is : \n",
      " [[1. 1. 1.]\n",
      " [1. 1. 1.]]\n",
      "2D array with 2 rows and 3 columns filled with 5 is : \n",
      " [[5 5 5]\n",
      " [5 5 5]]\n",
      "2D array with 2 rows and 3 columns filled with random values between 0 and 1 is : \n",
      " [[0.47667164 0.35253425 0.18704165]\n",
      " [0.69811183 0.34393889 0.87868279]]\n"
     ]
    }
   ],
   "source": [
    "arr3 = np.arange(10) # Create an array with 10 elements from 0 to 9\n",
    "print(\"Array with 100 elements from 0 to 9 is : \", arr3)\n",
    "\n",
    "arr4 = np.arange(10, 20) # Create an array with 10 elements from 10 to 19\n",
    "print(\"Array with 10 elements from 10 to 19 is : \", arr4)\n",
    "\n",
    "arr5 = np.arange(10, 20, 2) # Create an array from 10 to 19 with step size of 2\n",
    "print(\"Array with 10 elements from 10 to 19 with step size of 2 is : \", arr5)\n",
    "\n",
    "arr6_zero = np.zeros((2, 3)) # Create a 2D array with 2 rows and 3 columns filled with zeros\n",
    "print(\"2D array with 2 rows and 3 columns filled with zeros is : \\n\", arr6_zero)\n",
    "\n",
    "arr7_ones = np.ones((2,3)) # Create a 2D array with 2 rows and 3 columns filled with ones\n",
    "print(\"2D array with 2 rows and 3 columns filled with ones is : \\n\", arr7_ones)\n",
    "\n",
    "arr8_of_one_partical_value = np.full((2,3),5) # Create a 2D array with 2 rows and 3 columns filled with 5, formate is np.full((rows, columns), value)\n",
    "print(\"2D array with 2 rows and 3 columns filled with 5 is : \\n\", arr8_of_one_partical_value)\n",
    "\n",
    "arr9_random_values = np.random.random((2,3)) # Create a 2D array with 2 rows and 3 columns filled with random values between 0 and 1\n",
    "print(\"2D array with 2 rows and 3 columns filled with random values between 0 and 1 is : \\n\", arr9_random_values)"
   ]
  },
  {
   "cell_type": "code",
   "execution_count": null,
   "id": "f4b8c12b",
   "metadata": {},
   "outputs": [
    {
     "name": "stdout",
     "output_type": "stream",
     "text": [
      "My vector is :  [1 2 3 4 5]\n",
      "My matrix is : \n",
      " [[1 2 3]\n",
      " [4 5 6]]\n",
      "My tensor is : \n",
      " [[[1 2]\n",
      "  [3 4]]\n",
      "\n",
      " [[5 6]\n",
      "  [7 8]]]\n"
     ]
    }
   ],
   "source": [
    "vector = np.array([1,2,3,4,5])  # Create a vector (1D array)\n",
    "print(\"My vector is : \", vector)\n",
    "\n",
    "matrix = np.array([[1,2,3],[4,5,6]]) # Create a 2D array (matrix)\n",
    "print(\"My matrix is : \\n\", matrix)\n",
    "\n",
    "tensor = np.array([[[1,2],[3,4]],\n",
    "                    [[5,6],[7,8]]]) # Create a 3D array (tensor)\n",
    "print(\"My tensor is : \\n\", tensor)"
   ]
  },
  {
   "cell_type": "code",
   "execution_count": 17,
   "id": "7943cc1f",
   "metadata": {},
   "outputs": [
    {
     "name": "stdout",
     "output_type": "stream",
     "text": [
      "Array is : \n",
      " [[1 2 3]\n",
      " [4 5 6]]\n",
      "Shape of the array is :  (2, 3)\n",
      "Number of dimensions of the array is :  2\n",
      "Data type of the array is :  int64\n",
      "Size of the array is :  6\n",
      "Item size of the array is :  8\n",
      "Total bytes of the array is :  48\n",
      "The transepose of the array is : \n",
      " [[1 4]\n",
      " [2 5]\n",
      " [3 6]]\n"
     ]
    }
   ],
   "source": [
    "# Array properties\n",
    "arr10 = np.array([[1,2,3],[4,5,6]])  # Create a 2D array for properties demonstration\n",
    "\n",
    "print(\"Array is : \\n\", arr10) \n",
    "print(\"Shape of the array is : \", arr10.shape)  # Shape of the array\n",
    "print(\"Number of dimensions of the array is : \", arr10.ndim)   # Number of dimensions of the array\n",
    "print(\"Data type of the array is : \", arr10.dtype)  # Data type of the array\n",
    "print(\"Size of the array is : \", arr10.size)  # Size of the array\n",
    "print(\"Item size of the array is : \", arr10.itemsize)  # itemsize gives the number of bytes used to store one element in the array.\n",
    "print(\"Total bytes of the array is : \", arr10.nbytes)  # Total bytes\n",
    "print(\"The transepose of the array is : \\n\", arr10.T)  # Transpose of the array"
   ]
  },
  {
   "cell_type": "code",
   "execution_count": 15,
   "id": "0cd6fa15",
   "metadata": {},
   "outputs": [
    {
     "name": "stdout",
     "output_type": "stream",
     "text": [
      "1D array with 12 elements from 0 to 11 is :  [ 0  1  2  3  4  5  6  7  8  9 10 11]\n",
      "Reshaped array to 3 rows and 4 columns is : \n",
      " [[ 0  1  2  3]\n",
      " [ 4  5  6  7]\n",
      " [ 8  9 10 11]]\n",
      "Flattened array is :  [ 0  1  2  3  4  5  6  7  8  9 10 11]\n",
      "Reshaped array to 2 rows, 2 columns and 3 depth is : \n",
      " [[[ 0  1  2  3]\n",
      "  [ 4  5  6  7]\n",
      "  [ 8  9 10 11]]\n",
      "\n",
      " [[12 13 14 15]\n",
      "  [16 17 18 19]\n",
      "  [20 21 22 23]]]\n",
      "Accessing the element at depth 0, row 1, column 2 is :  6\n",
      "Raveled array is :  [ 0  1  2  3  4  5  6  7  8  9 10 11 12 13 14 15 16 17 18 19 20 21 22 23]\n"
     ]
    }
   ],
   "source": [
    "# list3 = [1,2,3,4,5,6,7,8,9,10,11,12]\n",
    "arr11 = np.arange(12) # Create a 1D array with 12 elements from 0 to 11\n",
    "print(\"1D array with 12 elements from 0 to 11 is : \", arr11)\n",
    "\n",
    "reshape_arr11_of2D = arr11.reshape(3,4) # Reshape the array to 3 rows and 4 columns\n",
    "print(\"Reshaped array to 3 rows and 4 columns is : \\n\", reshape_arr11_of2D)\n",
    "\n",
    "flattened_arr11 = reshape_arr11_of2D.flatten() # Flatten the array to 1D\n",
    "print(\"Flattened array is : \", flattened_arr11)\n",
    "\n",
    "reshape_arr12_of3D = np.arange(24).reshape(2,3,4) # Reshape the array to 2 depth, 3 row and 4 columns\n",
    "print(\"Reshaped array to 2 rows, 2 columns and 3 depth is : \\n\", reshape_arr12_of3D)\n",
    "'''\n",
    "    c0 c1 c2 c3\n",
    "[[[ 0  1  2  3]     row0    |\n",
    "  [ 4  5  6  7]     row1    |-> depth0\n",
    "  [ 8  9 10 11]]    row2    |\n",
    "\n",
    " [[12 13 14 15]     row0    |\n",
    "  [16 17 18 19]     row1    |-> depth1\n",
    "  [20 21 22 23]]]   row2    |\n",
    "'''\n",
    "# The access process is arr[depth][row][column]\n",
    "print(\"Accessing the element at depth 0, row 1, column 2 is : \", reshape_arr12_of3D[0][1][2]) # Accessing the element at depth 0, row 1, column 2\n",
    "\n",
    "ravel_arr12 = reshape_arr12_of3D.ravel() # Ravel the array to 1D\n",
    "print(\"Raveled array is : \", ravel_arr12)\n"
   ]
  },
  {
   "cell_type": "code",
   "execution_count": 16,
   "id": "4860055d",
   "metadata": {},
   "outputs": [
    {
     "name": "stdout",
     "output_type": "stream",
     "text": [
      "Original array:\n",
      " [[  1 200]\n",
      " [  3   4]]\n",
      "Flattened copy:\n",
      " [100   2   3   4]\n",
      "Raveled view:\n",
      " [  1 200   3   4]\n"
     ]
    }
   ],
   "source": [
    "# flatten() -> Always returns a copy\n",
    "# ravel() -> Returns a view (if possible)\n",
    "\n",
    "arr13 = np.array([[1, 2], [3, 4]])\n",
    "\n",
    "flat = arr13.flatten()\n",
    "rav = arr13.ravel()\n",
    "\n",
    "flat[0] = 100   # This will not affect the original array\n",
    "rav[1] = 200    # This will affect the original array if it is a view\n",
    "\n",
    "print(\"Original array:\\n\", arr13)\n",
    "print(\"Flattened copy:\\n\", flat)\n",
    "print(\"Raveled view:\\n\", rav)"
   ]
  },
  {
   "cell_type": "code",
   "execution_count": null,
   "id": "08570d86",
   "metadata": {},
   "outputs": [
    {
     "name": "stdout",
     "output_type": "stream",
     "text": [
      "Original array:\n",
      " [[ 1  2  3  4]\n",
      " [ 5  6  7  8]\n",
      " [ 9 10 11 12]]\n",
      "Sliced array (first two rows and first three columns):\n",
      " [[1 2 3]\n",
      " [5 6 7]]\n",
      "Sliced row (second row and all columns):\n",
      " [5 6 7 8]\n",
      "Sliced array (last two rows and last two columns):\n",
      " [[ 7  8]\n",
      " [11 12]]\n"
     ]
    }
   ],
   "source": [
    "# array slicing\n",
    "# array slicing is same as list slicing, but with some additional features, now list is 1D, so we don't show the 1D array slicing\n",
    "# but in numpy array, we can slice 2D and 3D arrays as well\n",
    "arr14 = np.array([[1, 2, 3, 4],\n",
    "                  [5, 6, 7, 8],\n",
    "                  [9, 10, 11, 12]])\n",
    "print(\"Original array:\\n\", arr14)\n",
    "# The formate is arr[row_start:row_end, column_start:column_end], if we don't specify the start or end, it will take the whole row or column by default, the end part always excludes the end index\n",
    "sliced_arr14 = arr14[:2, :3]    # Slicing the array to get the first two rows and first three columns\n",
    "print(\"Sliced array (first two rows and first three columns):\\n\", sliced_arr14)\n",
    "# Slicing the array to get the second row and all columns\n",
    "sliced_row = arr14[1, :]  # This means row 1 and all columns\n",
    "print(\"Sliced row (second row and all columns):\\n\", sliced_row)\n",
    "# Slicing the array to get the last two rows and last two columns\n",
    "sliced_arr14_last = arr14[-2:, -2:]  # Slicing the array to get the last two rows and last two columns\n",
    "print(\"Sliced array (last two rows and last two columns):\\n\", sliced_arr14_last)\n",
    "\n",
    "# The formate of 3D array slicing is arr[depth_start:depth_end, row_start:row_end, column_start:column_end]"
   ]
  },
  {
   "cell_type": "code",
   "execution_count": null,
   "id": "24bec932",
   "metadata": {},
   "outputs": [
    {
     "name": "stdout",
     "output_type": "stream",
     "text": [
      "Sorted array in ascending order: [1 2 3 4 5] \n",
      "\n",
      "\n",
      "\n",
      "Sorted array in ascending order (flattened):\n",
      " [[1 3 7]\n",
      " [2 5 6]]\n",
      "Sorted array along the first axis (columns):\n",
      " [[2 1 6]\n",
      " [3 5 7]]\n",
      "Sorted array along the second axis (rows):\n",
      " [[1 3 7]\n",
      " [2 5 6]]\n"
     ]
    }
   ],
   "source": [
    "# Sorting the array\n",
    "    # For 1D array\n",
    "arr15 = np.array([3, 1, 4, 2, 5])\n",
    "sorted_arr15 = np.sort(arr15)  # Sort the array in ascending order\n",
    "print(\"Sorted array in ascending order:\", sorted_arr15,\"\\n\\n\\n\")\n",
    "\n",
    "    # For 2D array\n",
    "arr16 = np.array([[3, 1, 7], \n",
    "                  [2, 5, 6]])\n",
    "# If we don't specify the axis,then it is axis = -1 and it will sort the array in ascending order, flattened\n",
    "sorted_arr16 = np.sort(arr16)  # Sort the array in ascending order, flattened\n",
    "print(\"Sorted array in ascending order (flattened):\\n\", sorted_arr16)\n",
    "sorted_arr16_col = np.sort(arr16, axis=0)  # Sort the array along the first axis (columns)\n",
    "print(\"Sorted array along the first axis (columns):\\n\", sorted_arr16_col)\n",
    "sorted_arr16_row = np.sort(arr16, axis=1)  # Sort the array along the second axis (rows)\n",
    "print(\"Sorted array along the second axis (rows):\\n\", sorted_arr16_row)"
   ]
  }
 ],
 "metadata": {
  "kernelspec": {
   "display_name": "env",
   "language": "python",
   "name": "python3"
  },
  "language_info": {
   "codemirror_mode": {
    "name": "ipython",
    "version": 3
   },
   "file_extension": ".py",
   "mimetype": "text/x-python",
   "name": "python",
   "nbconvert_exporter": "python",
   "pygments_lexer": "ipython3",
   "version": "3.12.5"
  }
 },
 "nbformat": 4,
 "nbformat_minor": 5
}
